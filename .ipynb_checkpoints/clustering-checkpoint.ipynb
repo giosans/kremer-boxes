{
 "cells": [
  {
   "cell_type": "code",
   "execution_count": 1,
   "id": "f5a52637",
   "metadata": {},
   "outputs": [],
   "source": [
    "import os\n",
    "import sklearn \n",
    "import numpy as np\n",
    "import pandas as pd\n",
    "import seaborn as sns\n",
    "import matplotlib.pyplot as plt\n"
   ]
  },
  {
   "cell_type": "code",
   "execution_count": 2,
   "id": "f24c82f0",
   "metadata": {},
   "outputs": [
    {
     "data": {
      "text/html": [
       "<div>\n",
       "<style scoped>\n",
       "    .dataframe tbody tr th:only-of-type {\n",
       "        vertical-align: middle;\n",
       "    }\n",
       "\n",
       "    .dataframe tbody tr th {\n",
       "        vertical-align: top;\n",
       "    }\n",
       "\n",
       "    .dataframe thead th {\n",
       "        text-align: right;\n",
       "    }\n",
       "</style>\n",
       "<table border=\"1\" class=\"dataframe\">\n",
       "  <thead>\n",
       "    <tr style=\"text-align: right;\">\n",
       "      <th></th>\n",
       "      <th>0</th>\n",
       "      <th>1</th>\n",
       "      <th>2</th>\n",
       "      <th>3</th>\n",
       "      <th>4</th>\n",
       "      <th>5</th>\n",
       "      <th>6</th>\n",
       "      <th>7</th>\n",
       "      <th>8</th>\n",
       "      <th>9</th>\n",
       "      <th>...</th>\n",
       "      <th>147</th>\n",
       "      <th>148</th>\n",
       "      <th>149</th>\n",
       "      <th>150</th>\n",
       "      <th>151</th>\n",
       "      <th>152</th>\n",
       "      <th>153</th>\n",
       "      <th>154</th>\n",
       "      <th>155</th>\n",
       "      <th>156</th>\n",
       "    </tr>\n",
       "  </thead>\n",
       "  <tbody>\n",
       "    <tr>\n",
       "      <th>0</th>\n",
       "      <td>3.0105</td>\n",
       "      <td>1.5208</td>\n",
       "      <td>1.0839</td>\n",
       "      <td>1.2910</td>\n",
       "      <td>1.1568</td>\n",
       "      <td>1.2226</td>\n",
       "      <td>-0.000168</td>\n",
       "      <td>1.0417</td>\n",
       "      <td>1.1552</td>\n",
       "      <td>0.02160</td>\n",
       "      <td>...</td>\n",
       "      <td>-0.026800</td>\n",
       "      <td>-0.02540</td>\n",
       "      <td>-0.02460</td>\n",
       "      <td>-0.02620</td>\n",
       "      <td>-0.02750</td>\n",
       "      <td>-0.02600</td>\n",
       "      <td>-0.02720</td>\n",
       "      <td>-0.02760</td>\n",
       "      <td>-0.02620</td>\n",
       "      <td>-0.02730</td>\n",
       "    </tr>\n",
       "    <tr>\n",
       "      <th>1</th>\n",
       "      <td>0.0000</td>\n",
       "      <td>3.0101</td>\n",
       "      <td>2.7340</td>\n",
       "      <td>2.9788</td>\n",
       "      <td>2.8312</td>\n",
       "      <td>2.9244</td>\n",
       "      <td>-0.000364</td>\n",
       "      <td>2.6777</td>\n",
       "      <td>2.7806</td>\n",
       "      <td>0.22997</td>\n",
       "      <td>...</td>\n",
       "      <td>-0.000123</td>\n",
       "      <td>-0.00647</td>\n",
       "      <td>-0.02040</td>\n",
       "      <td>-0.01400</td>\n",
       "      <td>-0.00901</td>\n",
       "      <td>-0.01600</td>\n",
       "      <td>-0.01100</td>\n",
       "      <td>-0.01010</td>\n",
       "      <td>-0.01450</td>\n",
       "      <td>-0.01130</td>\n",
       "    </tr>\n",
       "    <tr>\n",
       "      <th>2</th>\n",
       "      <td>0.0000</td>\n",
       "      <td>0.0000</td>\n",
       "      <td>3.0122</td>\n",
       "      <td>2.6283</td>\n",
       "      <td>2.9750</td>\n",
       "      <td>2.8853</td>\n",
       "      <td>-0.000368</td>\n",
       "      <td>2.8881</td>\n",
       "      <td>2.8695</td>\n",
       "      <td>0.33598</td>\n",
       "      <td>...</td>\n",
       "      <td>0.029600</td>\n",
       "      <td>0.01810</td>\n",
       "      <td>-0.00429</td>\n",
       "      <td>0.00730</td>\n",
       "      <td>0.01650</td>\n",
       "      <td>0.00398</td>\n",
       "      <td>0.01310</td>\n",
       "      <td>0.01530</td>\n",
       "      <td>0.00664</td>\n",
       "      <td>0.01270</td>\n",
       "    </tr>\n",
       "    <tr>\n",
       "      <th>3</th>\n",
       "      <td>0.0000</td>\n",
       "      <td>0.0000</td>\n",
       "      <td>0.0000</td>\n",
       "      <td>3.0006</td>\n",
       "      <td>2.7402</td>\n",
       "      <td>2.8788</td>\n",
       "      <td>-0.000359</td>\n",
       "      <td>2.6000</td>\n",
       "      <td>2.7203</td>\n",
       "      <td>0.22696</td>\n",
       "      <td>...</td>\n",
       "      <td>0.000239</td>\n",
       "      <td>-0.00597</td>\n",
       "      <td>-0.02010</td>\n",
       "      <td>-0.01380</td>\n",
       "      <td>-0.00865</td>\n",
       "      <td>-0.01570</td>\n",
       "      <td>-0.01080</td>\n",
       "      <td>-0.00988</td>\n",
       "      <td>-0.01430</td>\n",
       "      <td>-0.01110</td>\n",
       "    </tr>\n",
       "    <tr>\n",
       "      <th>4</th>\n",
       "      <td>0.0000</td>\n",
       "      <td>0.0000</td>\n",
       "      <td>0.0000</td>\n",
       "      <td>0.0000</td>\n",
       "      <td>3.0122</td>\n",
       "      <td>2.9619</td>\n",
       "      <td>-0.000358</td>\n",
       "      <td>2.8829</td>\n",
       "      <td>2.9121</td>\n",
       "      <td>0.28059</td>\n",
       "      <td>...</td>\n",
       "      <td>0.015800</td>\n",
       "      <td>0.00638</td>\n",
       "      <td>-0.01200</td>\n",
       "      <td>-0.00275</td>\n",
       "      <td>0.00478</td>\n",
       "      <td>-0.00567</td>\n",
       "      <td>0.00146</td>\n",
       "      <td>0.00343</td>\n",
       "      <td>-0.00353</td>\n",
       "      <td>0.00154</td>\n",
       "    </tr>\n",
       "    <tr>\n",
       "      <th>...</th>\n",
       "      <td>...</td>\n",
       "      <td>...</td>\n",
       "      <td>...</td>\n",
       "      <td>...</td>\n",
       "      <td>...</td>\n",
       "      <td>...</td>\n",
       "      <td>...</td>\n",
       "      <td>...</td>\n",
       "      <td>...</td>\n",
       "      <td>...</td>\n",
       "      <td>...</td>\n",
       "      <td>...</td>\n",
       "      <td>...</td>\n",
       "      <td>...</td>\n",
       "      <td>...</td>\n",
       "      <td>...</td>\n",
       "      <td>...</td>\n",
       "      <td>...</td>\n",
       "      <td>...</td>\n",
       "      <td>...</td>\n",
       "      <td>...</td>\n",
       "    </tr>\n",
       "    <tr>\n",
       "      <th>152</th>\n",
       "      <td>0.0000</td>\n",
       "      <td>0.0000</td>\n",
       "      <td>0.0000</td>\n",
       "      <td>0.0000</td>\n",
       "      <td>0.0000</td>\n",
       "      <td>0.0000</td>\n",
       "      <td>0.000000</td>\n",
       "      <td>0.0000</td>\n",
       "      <td>0.0000</td>\n",
       "      <td>0.00000</td>\n",
       "      <td>...</td>\n",
       "      <td>0.000000</td>\n",
       "      <td>0.00000</td>\n",
       "      <td>0.00000</td>\n",
       "      <td>0.00000</td>\n",
       "      <td>0.00000</td>\n",
       "      <td>3.01540</td>\n",
       "      <td>2.76910</td>\n",
       "      <td>2.65880</td>\n",
       "      <td>2.99510</td>\n",
       "      <td>2.74690</td>\n",
       "    </tr>\n",
       "    <tr>\n",
       "      <th>153</th>\n",
       "      <td>0.0000</td>\n",
       "      <td>0.0000</td>\n",
       "      <td>0.0000</td>\n",
       "      <td>0.0000</td>\n",
       "      <td>0.0000</td>\n",
       "      <td>0.0000</td>\n",
       "      <td>0.000000</td>\n",
       "      <td>0.0000</td>\n",
       "      <td>0.0000</td>\n",
       "      <td>0.00000</td>\n",
       "      <td>...</td>\n",
       "      <td>0.000000</td>\n",
       "      <td>0.00000</td>\n",
       "      <td>0.00000</td>\n",
       "      <td>0.00000</td>\n",
       "      <td>0.00000</td>\n",
       "      <td>0.00000</td>\n",
       "      <td>2.98420</td>\n",
       "      <td>2.94150</td>\n",
       "      <td>2.83650</td>\n",
       "      <td>2.98320</td>\n",
       "    </tr>\n",
       "    <tr>\n",
       "      <th>154</th>\n",
       "      <td>0.0000</td>\n",
       "      <td>0.0000</td>\n",
       "      <td>0.0000</td>\n",
       "      <td>0.0000</td>\n",
       "      <td>0.0000</td>\n",
       "      <td>0.0000</td>\n",
       "      <td>0.000000</td>\n",
       "      <td>0.0000</td>\n",
       "      <td>0.0000</td>\n",
       "      <td>0.00000</td>\n",
       "      <td>...</td>\n",
       "      <td>0.000000</td>\n",
       "      <td>0.00000</td>\n",
       "      <td>0.00000</td>\n",
       "      <td>0.00000</td>\n",
       "      <td>0.00000</td>\n",
       "      <td>0.00000</td>\n",
       "      <td>0.00000</td>\n",
       "      <td>3.00230</td>\n",
       "      <td>2.72450</td>\n",
       "      <td>2.94550</td>\n",
       "    </tr>\n",
       "    <tr>\n",
       "      <th>155</th>\n",
       "      <td>0.0000</td>\n",
       "      <td>0.0000</td>\n",
       "      <td>0.0000</td>\n",
       "      <td>0.0000</td>\n",
       "      <td>0.0000</td>\n",
       "      <td>0.0000</td>\n",
       "      <td>0.000000</td>\n",
       "      <td>0.0000</td>\n",
       "      <td>0.0000</td>\n",
       "      <td>0.00000</td>\n",
       "      <td>...</td>\n",
       "      <td>0.000000</td>\n",
       "      <td>0.00000</td>\n",
       "      <td>0.00000</td>\n",
       "      <td>0.00000</td>\n",
       "      <td>0.00000</td>\n",
       "      <td>0.00000</td>\n",
       "      <td>0.00000</td>\n",
       "      <td>0.00000</td>\n",
       "      <td>3.00120</td>\n",
       "      <td>2.81710</td>\n",
       "    </tr>\n",
       "    <tr>\n",
       "      <th>156</th>\n",
       "      <td>0.0000</td>\n",
       "      <td>0.0000</td>\n",
       "      <td>0.0000</td>\n",
       "      <td>0.0000</td>\n",
       "      <td>0.0000</td>\n",
       "      <td>0.0000</td>\n",
       "      <td>0.000000</td>\n",
       "      <td>0.0000</td>\n",
       "      <td>0.0000</td>\n",
       "      <td>0.00000</td>\n",
       "      <td>...</td>\n",
       "      <td>0.000000</td>\n",
       "      <td>0.00000</td>\n",
       "      <td>0.00000</td>\n",
       "      <td>0.00000</td>\n",
       "      <td>0.00000</td>\n",
       "      <td>0.00000</td>\n",
       "      <td>0.00000</td>\n",
       "      <td>0.00000</td>\n",
       "      <td>0.00000</td>\n",
       "      <td>2.98420</td>\n",
       "    </tr>\n",
       "  </tbody>\n",
       "</table>\n",
       "<p>157 rows × 157 columns</p>\n",
       "</div>"
      ],
      "text/plain": [
       "        0       1       2       3       4       5         6       7       8    \\\n",
       "0    3.0105  1.5208  1.0839  1.2910  1.1568  1.2226 -0.000168  1.0417  1.1552   \n",
       "1    0.0000  3.0101  2.7340  2.9788  2.8312  2.9244 -0.000364  2.6777  2.7806   \n",
       "2    0.0000  0.0000  3.0122  2.6283  2.9750  2.8853 -0.000368  2.8881  2.8695   \n",
       "3    0.0000  0.0000  0.0000  3.0006  2.7402  2.8788 -0.000359  2.6000  2.7203   \n",
       "4    0.0000  0.0000  0.0000  0.0000  3.0122  2.9619 -0.000358  2.8829  2.9121   \n",
       "..      ...     ...     ...     ...     ...     ...       ...     ...     ...   \n",
       "152  0.0000  0.0000  0.0000  0.0000  0.0000  0.0000  0.000000  0.0000  0.0000   \n",
       "153  0.0000  0.0000  0.0000  0.0000  0.0000  0.0000  0.000000  0.0000  0.0000   \n",
       "154  0.0000  0.0000  0.0000  0.0000  0.0000  0.0000  0.000000  0.0000  0.0000   \n",
       "155  0.0000  0.0000  0.0000  0.0000  0.0000  0.0000  0.000000  0.0000  0.0000   \n",
       "156  0.0000  0.0000  0.0000  0.0000  0.0000  0.0000  0.000000  0.0000  0.0000   \n",
       "\n",
       "         9    ...       147      148      149      150      151      152  \\\n",
       "0    0.02160  ... -0.026800 -0.02540 -0.02460 -0.02620 -0.02750 -0.02600   \n",
       "1    0.22997  ... -0.000123 -0.00647 -0.02040 -0.01400 -0.00901 -0.01600   \n",
       "2    0.33598  ...  0.029600  0.01810 -0.00429  0.00730  0.01650  0.00398   \n",
       "3    0.22696  ...  0.000239 -0.00597 -0.02010 -0.01380 -0.00865 -0.01570   \n",
       "4    0.28059  ...  0.015800  0.00638 -0.01200 -0.00275  0.00478 -0.00567   \n",
       "..       ...  ...       ...      ...      ...      ...      ...      ...   \n",
       "152  0.00000  ...  0.000000  0.00000  0.00000  0.00000  0.00000  3.01540   \n",
       "153  0.00000  ...  0.000000  0.00000  0.00000  0.00000  0.00000  0.00000   \n",
       "154  0.00000  ...  0.000000  0.00000  0.00000  0.00000  0.00000  0.00000   \n",
       "155  0.00000  ...  0.000000  0.00000  0.00000  0.00000  0.00000  0.00000   \n",
       "156  0.00000  ...  0.000000  0.00000  0.00000  0.00000  0.00000  0.00000   \n",
       "\n",
       "         153      154      155      156  \n",
       "0   -0.02720 -0.02760 -0.02620 -0.02730  \n",
       "1   -0.01100 -0.01010 -0.01450 -0.01130  \n",
       "2    0.01310  0.01530  0.00664  0.01270  \n",
       "3   -0.01080 -0.00988 -0.01430 -0.01110  \n",
       "4    0.00146  0.00343 -0.00353  0.00154  \n",
       "..       ...      ...      ...      ...  \n",
       "152  2.76910  2.65880  2.99510  2.74690  \n",
       "153  2.98420  2.94150  2.83650  2.98320  \n",
       "154  0.00000  3.00230  2.72450  2.94550  \n",
       "155  0.00000  0.00000  3.00120  2.81710  \n",
       "156  0.00000  0.00000  0.00000  2.98420  \n",
       "\n",
       "[157 rows x 157 columns]"
      ]
     },
     "execution_count": 2,
     "metadata": {},
     "output_type": "execute_result"
    }
   ],
   "source": [
    "csvpath = r'similarity/similarity_matrix.csv'\n",
    "simhalf = pd.read_csv(csvpath, sep=';', decimal=',', header=None, index_col=False)\n",
    "simhalf\n"
   ]
  },
  {
   "cell_type": "code",
   "execution_count": 3,
   "id": "391d19f0",
   "metadata": {},
   "outputs": [],
   "source": [
    "n = len(simhalf)\n",
    "sim = simhalf.to_numpy()\n",
    "i_lower = np.tril_indices(n, -1)\n",
    "sim[i_lower] = sim.T[i_lower] \n"
   ]
  },
  {
   "cell_type": "code",
   "execution_count": 4,
   "id": "ee8f970c",
   "metadata": {},
   "outputs": [
    {
     "data": {
      "text/plain": [
       "array([[ 3.0105 ,  1.5208 ,  1.0839 , ..., -0.0276 , -0.0262 , -0.0273 ],\n",
       "       [ 1.5208 ,  3.0101 ,  2.734  , ..., -0.0101 , -0.0145 , -0.0113 ],\n",
       "       [ 1.0839 ,  2.734  ,  3.0122 , ...,  0.0153 ,  0.00664,  0.0127 ],\n",
       "       ...,\n",
       "       [-0.0276 , -0.0101 ,  0.0153 , ...,  3.0023 ,  2.7245 ,  2.9455 ],\n",
       "       [-0.0262 , -0.0145 ,  0.00664, ...,  2.7245 ,  3.0012 ,  2.8171 ],\n",
       "       [-0.0273 , -0.0113 ,  0.0127 , ...,  2.9455 ,  2.8171 ,  2.9842 ]])"
      ]
     },
     "execution_count": 4,
     "metadata": {},
     "output_type": "execute_result"
    }
   ],
   "source": [
    "sim\n"
   ]
  },
  {
   "cell_type": "code",
   "execution_count": 5,
   "id": "936e28b5",
   "metadata": {},
   "outputs": [
    {
     "data": {
      "image/png": "[encoded data removed]",
      "text/plain": [
       "<Figure size 864x864 with 2 Axes>"
      ]
     },
     "metadata": {},
     "output_type": "display_data"
    }
   ],
   "source": [
    "# visualize it\n",
    "sns.set_theme(color_codes=True)\n",
    "mask = np.triu(np.ones_like(sim, dtype=bool))\n",
    "\n",
    "f, ax = plt.subplots(figsize=(12, 12))\n",
    "cmap = sns.diverging_palette(230, 20, as_cmap=True)\n",
    "ax = sns.heatmap(sim, mask=mask, cmap=cmap, square=True, cbar_kws={\"shrink\": .5})\n",
    "plt.savefig(r'images/similarity_matrix.jpg')\n"
   ]
  },
  {
   "cell_type": "code",
   "execution_count": 6,
   "id": "cabf2e71",
   "metadata": {},
   "outputs": [],
   "source": [
    "from sklearn.preprocessing import MinMaxScaler\n",
    "\n",
    "beta = 1\n",
    "simnorm1 = np.exp(-beta * sim / sim.std()) # exp\n",
    "simnorm2 = MinMaxScaler().fit_transform(sim) # min max lin [.inverse_transform to get back]\n",
    "n_clusters = 10\n"
   ]
  },
  {
   "cell_type": "code",
   "execution_count": 7,
   "id": "ccc4abbb",
   "metadata": {},
   "outputs": [],
   "source": [
    "# K-Means # not really suited for this"
   ]
  },
  {
   "cell_type": "code",
   "execution_count": 8,
   "id": "85a5a353",
   "metadata": {},
   "outputs": [],
   "source": [
    "from sklearn.cluster import KMeans\n",
    "k_means = KMeans(init='k-means++', n_clusters=n_clusters, n_init=10)\n",
    "km_lin = k_means.fit_predict(simnorm2)"
   ]
  },
  {
   "cell_type": "code",
   "execution_count": 9,
   "id": "ccc35e8b",
   "metadata": {},
   "outputs": [],
   "source": [
    "km_exp = k_means.fit_predict(simnorm1)"
   ]
  },
  {
   "cell_type": "code",
   "execution_count": 10,
   "id": "bff46681",
   "metadata": {},
   "outputs": [],
   "source": [
    "# Spectral clustering"
   ]
  },
  {
   "cell_type": "code",
   "execution_count": 11,
   "id": "e089b9ea",
   "metadata": {},
   "outputs": [
    {
     "name": "stderr",
     "output_type": "stream",
     "text": [
      "c:\\Users\\santinel\\Miniconda3\\envs\\kremer\\lib\\site-packages\\sklearn\\cluster\\_spectral.py:507: UserWarning: The spectral clustering API has changed. ``fit``now constructs an affinity matrix from data. To use a custom affinity matrix, set ``affinity=precomputed``.\n",
      "  warnings.warn(\"The spectral clustering API has changed. ``fit``\"\n",
      "c:\\Users\\santinel\\Miniconda3\\envs\\kremer\\lib\\site-packages\\sklearn\\cluster\\_spectral.py:507: UserWarning: The spectral clustering API has changed. ``fit``now constructs an affinity matrix from data. To use a custom affinity matrix, set ``affinity=precomputed``.\n",
      "  warnings.warn(\"The spectral clustering API has changed. ``fit``\"\n"
     ]
    }
   ],
   "source": [
    "from sklearn.cluster import SpectralClustering # affinity precomputed ?\n",
    "sc = SpectralClustering(n_clusters, affinity='nearest_neighbors', n_init=100,\n",
    "                        assign_labels='discretize')\n",
    "sc.fit_predict(sim)\n",
    "\n",
    "# or, as normalized # gives same results\n",
    "sc_nearn_lin = sc.fit_predict(simnorm2)"
   ]
  },
  {
   "cell_type": "code",
   "execution_count": 12,
   "id": "25a139e1",
   "metadata": {},
   "outputs": [
    {
     "name": "stderr",
     "output_type": "stream",
     "text": [
      "c:\\Users\\santinel\\Miniconda3\\envs\\kremer\\lib\\site-packages\\sklearn\\cluster\\_spectral.py:507: UserWarning: The spectral clustering API has changed. ``fit``now constructs an affinity matrix from data. To use a custom affinity matrix, set ``affinity=precomputed``.\n",
      "  warnings.warn(\"The spectral clustering API has changed. ``fit``\"\n"
     ]
    }
   ],
   "source": [
    "sc_nearn_exp = sc.fit_predict(simnorm1)"
   ]
  },
  {
   "cell_type": "code",
   "execution_count": 13,
   "id": "821c206a",
   "metadata": {},
   "outputs": [],
   "source": [
    "sc = SpectralClustering(n_clusters, affinity='precomputed', assign_labels='discretize')\n",
    "sc_precomp_exp = sc.fit_predict(simnorm1)"
   ]
  },
  {
   "cell_type": "code",
   "execution_count": 14,
   "id": "13d6eb97",
   "metadata": {},
   "outputs": [
    {
     "name": "stderr",
     "output_type": "stream",
     "text": [
      "c:\\Users\\santinel\\Miniconda3\\envs\\kremer\\lib\\site-packages\\sklearn\\utils\\validation.py:63: UserWarning: Array is not symmetric, and will be converted to symmetric by average with its transpose.\n",
      "  return f(*args, **kwargs)\n"
     ]
    }
   ],
   "source": [
    "sc_precomp_lin = sc.fit_predict(simnorm2)"
   ]
  },
  {
   "cell_type": "markdown",
   "id": "b3912e45",
   "metadata": {},
   "source": [
    "- number of clusters may depend on data points / columns\n",
    "\n"
   ]
  },
  {
   "cell_type": "code",
   "execution_count": 15,
   "id": "0a2ba982",
   "metadata": {},
   "outputs": [],
   "source": [
    "# Agglomerative clustering"
   ]
  },
  {
   "cell_type": "code",
   "execution_count": 16,
   "id": "c14f1134",
   "metadata": {
    "scrolled": false
   },
   "outputs": [],
   "source": [
    "from sklearn.cluster import AgglomerativeClustering\n",
    "ward = AgglomerativeClustering(n_clusters=n_clusters, linkage='ward')\n",
    "ac_exp = ward.fit_predict(simnorm1)"
   ]
  },
  {
   "cell_type": "code",
   "execution_count": 17,
   "id": "0fa2772c",
   "metadata": {},
   "outputs": [],
   "source": [
    "ac_lin = ward.fit_predict(simnorm2)"
   ]
  },
  {
   "cell_type": "code",
   "execution_count": 18,
   "id": "4f959671",
   "metadata": {},
   "outputs": [],
   "source": [
    "acp = AgglomerativeClustering(affinity='precomputed', n_clusters=10, linkage='complete')\n",
    "ac_precomp_exp = acp.fit_predict(simnorm1)"
   ]
  },
  {
   "cell_type": "code",
   "execution_count": 19,
   "id": "5fdf396d",
   "metadata": {},
   "outputs": [],
   "source": [
    "ac_precomp_lin = acp.fit_predict(simnorm2)"
   ]
  },
  {
   "cell_type": "code",
   "execution_count": 20,
   "id": "8175d227",
   "metadata": {},
   "outputs": [],
   "source": [
    "# for visual comparison, it orders classes as it meets them in the array.\n",
    "def increasingclasses(vx):\n",
    "    pc = np.insert(vx, 0, 999)\n",
    "    new_vx = []\n",
    "    c = -1\n",
    "    for p in range(len(vx)):\n",
    "        if vx[p] != pc[p]: \n",
    "            if vx[p] in pc[0:p+1]:\n",
    "                locc = np.where(np.isin(pc[0:p+1], vx[p]))[0][0]\n",
    "                #print(vx[p])\n",
    "                #print(pc[0:p+1])\n",
    "                #print(locc)\n",
    "                #print(new_vx)\n",
    "                new_vx.append(new_vx[locc-1])\n",
    "                continue\n",
    "            else:\n",
    "                c = c+1\n",
    "        else:\n",
    "            new_vx.append(new_vx[-1])\n",
    "            continue\n",
    "        new_vx.append(c)\n",
    "    return np.array(new_vx)\n",
    "\n",
    "# save csv files of cluster results\n",
    "def createcsv(vx, vx_name, n_clusters):\n",
    "    np.savetxt(os.path.join('clusters', vx_name+'_'+str(n_clusters)+'clusters'+\".csv\"), vx, delimiter=\",\", fmt= '%.0d')\n",
    "    return"
   ]
  },
  {
   "cell_type": "code",
   "execution_count": 21,
   "id": "68975a9b",
   "metadata": {},
   "outputs": [],
   "source": [
    "names = ['kmeans_lin',\n",
    "      'kmeans_exp',\n",
    "      'spectclust_nn_lin',\n",
    "      'spectclust_nn_exp',\n",
    "      'spectclust_prec_lin',\n",
    "      'spectclust_prec_exp',\n",
    "      'agglclust_ward_lin',\n",
    "      'agglclust_ward_exp',\n",
    "      'agglclust_prec_lin',\n",
    "      'agglclust_prec_exp']\n",
    "\n",
    "models = [km_lin,\n",
    "         km_exp,\n",
    "         sc_nearn_lin,\n",
    "         sc_nearn_exp,\n",
    "         sc_precomp_lin,\n",
    "         sc_precomp_exp,\n",
    "         ac_lin,\n",
    "         ac_exp,\n",
    "         ac_precomp_lin,\n",
    "         ac_precomp_exp]\n"
   ]
  },
  {
   "cell_type": "code",
   "execution_count": 22,
   "id": "4e948636",
   "metadata": {},
   "outputs": [
    {
     "data": {
      "image/png": "[encoded data removed]",
      "text/plain": [
       "<Figure size 1440x360 with 2 Axes>"
      ]
     },
     "metadata": {},
     "output_type": "display_data"
    }
   ],
   "source": [
    "f, ax = plt.subplots(figsize=(20, 5))\n",
    "ax = sns.heatmap(np.array([\n",
    "    increasingclasses(km_lin),\n",
    "    increasingclasses(km_exp),\n",
    "    increasingclasses(sc_nearn_lin),\n",
    "    increasingclasses(sc_nearn_exp),\n",
    "    increasingclasses(sc_precomp_lin),\n",
    "    increasingclasses(sc_precomp_exp),\n",
    "    increasingclasses(ac_lin),\n",
    "    increasingclasses(ac_exp),\n",
    "    increasingclasses(ac_precomp_lin),\n",
    "    increasingclasses(ac_precomp_exp)\n",
    "                 ]), cmap = 'viridis')\n",
    "plt.setp(ax.yaxis.get_majorticklabels(), rotation=0)\n",
    "ax.set_yticklabels(names)\n",
    "plt.savefig(r'images/clustering_comparison.jpg')\n"
   ]
  },
  {
   "cell_type": "code",
   "execution_count": 23,
   "id": "40c36b7c",
   "metadata": {},
   "outputs": [],
   "source": [
    "#save files\n",
    "for n in range(len(names)):\n",
    "    createcsv(models[n], names[n], n_clusters)\n"
   ]
  },
  {
   "cell_type": "code",
   "execution_count": null,
   "id": "e5db4123",
   "metadata": {},
   "outputs": [],
   "source": []
  }
 ],
 "metadata": {
  "kernelspec": {
   "display_name": "Python 3 (ipykernel)",
   "language": "python",
   "name": "python3"
  },
  "language_info": {
   "codemirror_mode": {
    "name": "ipython",
    "version": 3
   },
   "file_extension": ".py",
   "mimetype": "text/x-python",
   "name": "python",
   "nbconvert_exporter": "python",
   "pygments_lexer": "ipython3",
   "version": "3.9.7"
  }
 },
 "nbformat": 4,
 "nbformat_minor": 5
}
